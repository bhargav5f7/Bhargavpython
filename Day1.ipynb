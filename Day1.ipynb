{
 "cells": [
  {
   "cell_type": "code",
   "execution_count": 1,
   "metadata": {},
   "outputs": [
    {
     "name": "stdout",
     "output_type": "stream",
     "text": [
      "hello\n"
     ]
    }
   ],
   "source": [
    "print('hello')"
   ]
  },
  {
   "cell_type": "markdown",
   "metadata": {},
   "source": [
    "#Italic"
   ]
  },
  {
   "cell_type": "markdown",
   "metadata": {},
   "source": [
    "#Italic\n",
    "*PythonWork Shop*\n",
    " "
   ]
  },
  {
   "cell_type": "markdown",
   "metadata": {},
   "source": [
    "# Both Bold & italic\n",
    "***DAy fdc***\n",
    "## offline image\n",
    "## online image\n",
    "<img src=\"sample.jpg\">"
   ]
  },
  {
   "cell_type": "markdown",
   "metadata": {},
   "source": [
    "<img scr=\"data:image/jpeg;base64,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\">"
   ]
  },
  {
   "cell_type": "markdown",
   "metadata": {},
   "source": [
    "<img src=\"https://www.google.com/url?sa=i&url=https%3A%2F%2Fwww.hindustantimes.com%2Findia-news%2Fandhra-launches-mobile-covid-19-sample-collection-centres-aadhaar-must%2Fstory-mIkKbJyqrySRsOKROO6RFN.html&psig=AOvVaw1Eg7DGNHdc7bEHuDUvgQoe&ust=1611901270064000&source=images&cd=vfe&ved=0CAIQjRxqFwoTCLDlkq_-ve4CFQAAAAAdAAAAABAT\">"
   ]
  },
  {
   "cell_type": "markdown",
   "metadata": {},
   "source": [
    "<img scr=\"https://encrypted-tbn0.gstatic.com/images?q=tbn:ANd9GcRDFDY-BQiOOZcAZp1Bjux4RCdxmbgUcFwOMg&usqp=CAU\">"
   ]
  },
  {
   "cell_type": "markdown",
   "metadata": {},
   "source": [
    "<img src=\"https://www.google.com/imgres?imgurl=https%3A%2F%2Fimages.indianexpress.com%2F2018%2F10%2Foneplus-6t-camera-sample-pete-lau-main.jpg&imgrefurl=https%3A%2F%2Findianexpress.com%2Farticle%2Ftechnology%2Fmobile-tabs%2Foneplus-ceo-pete-lau-shares-oneplus-6t-camera-sample-ahead-of-launch-5412971%2F&tbnid=jPM_R1KOAxfjLM&vet=10CCoQMyjiAWoXChMIsOWSr_697gIVAAAAAB0AAAAAEAs..i&docid=cnHuDxwgJpGnzM&w=759&h=422&q=sample%20images&hl=en-IN&authuser=0&ved=0CCoQMyjiAWoXChMIsOWSr_697gIVAAAAAB0AAAAAEAs\">"
   ]
  },
  {
   "cell_type": "markdown",
   "metadata": {},
   "source": [
    "# Bullet points\n",
    "\n",
    "+ programming\n",
    "    + c\n",
    "    - java\n",
    "    * python\n",
    "    \n",
    "- web\n",
    "    + html\n",
    "    - css\n",
    "    * jss\n",
    "    \n",
    "* socialweb\n",
    "    + facebook\n",
    "    - twitter\n",
    "    * instagram\n",
    "# order list\n",
    "\n",
    "1. Bootstrap\n",
    "\n",
    "100. jquery\n",
    "500. Ajax\n",
    "100. Angularjs\n",
    "\n",
    "# unorder list\n",
    "\n",
    "+ Django\n",
    "\n",
    "- Flask\n",
    "\n",
    "* Bottle\n",
    "\n",
    "3. cherrypy\n"
   ]
  },
  {
   "cell_type": "markdown",
   "metadata": {},
   "source": [
    "# Introduction to python\n",
    "\n",
    "# History of Python\n",
    "\n",
    "# Variable Decleration\n",
    "\n",
    "# Operations in python\n",
    "\n",
    "# Comments in python\n",
    "\n",
    "# Controls flow Statements"
   ]
  },
  {
   "cell_type": "markdown",
   "metadata": {},
   "source": [
    "# introduction  To Python\n",
    "    + Highlevel\n",
    "    - object orientated programming\n",
    "    * Interpeted\n",
    "    + dynamic\n",
    "    + Multipurpose"
   ]
  },
  {
   "cell_type": "code",
   "execution_count": 2,
   "metadata": {},
   "outputs": [
    {
     "data": {
      "text/plain": [
       "int"
      ]
     },
     "execution_count": 2,
     "metadata": {},
     "output_type": "execute_result"
    }
   ],
   "source": [
    "a=10\n",
    "type (a)"
   ]
  },
  {
   "cell_type": "code",
   "execution_count": 3,
   "metadata": {},
   "outputs": [
    {
     "data": {
      "text/plain": [
       "str"
      ]
     },
     "execution_count": 3,
     "metadata": {},
     "output_type": "execute_result"
    }
   ],
   "source": [
    "a=10\n",
    "b=20\n",
    "c=\"hello\"\n",
    "type(c)"
   ]
  },
  {
   "cell_type": "markdown",
   "metadata": {},
   "source": [
    "# History of Python\n",
    "\n",
    "+ In 1980's started implimentation of python\n",
    "\n",
    "+ In 1991 released 0.9.0 version\n",
    "\n",
    "+ In 1994 released 1.0 version with features of Ananymous like Lambda, Fliter Reduce\n"
   ]
  },
  {
   "cell_type": "code",
   "execution_count": 3,
   "metadata": {},
   "outputs": [
    {
     "data": {
      "text/plain": [
       "['False',\n",
       " 'None',\n",
       " 'True',\n",
       " 'and',\n",
       " 'as',\n",
       " 'assert',\n",
       " 'async',\n",
       " 'await',\n",
       " 'break',\n",
       " 'class',\n",
       " 'continue',\n",
       " 'def',\n",
       " 'del',\n",
       " 'elif',\n",
       " 'else',\n",
       " 'except',\n",
       " 'finally',\n",
       " 'for',\n",
       " 'from',\n",
       " 'global',\n",
       " 'if',\n",
       " 'import',\n",
       " 'in',\n",
       " 'is',\n",
       " 'lambda',\n",
       " 'nonlocal',\n",
       " 'not',\n",
       " 'or',\n",
       " 'pass',\n",
       " 'raise',\n",
       " 'return',\n",
       " 'try',\n",
       " 'while',\n",
       " 'with',\n",
       " 'yield']"
      ]
     },
     "execution_count": 3,
     "metadata": {},
     "output_type": "execute_result"
    }
   ],
   "source": [
    "# keyword or Reserved words\n",
    "import keyword\n",
    "dir(keyword)\n",
    "keyword.iskeyword('is')\n",
    "keyword.kwlist"
   ]
  },
  {
   "cell_type": "code",
   "execution_count": 6,
   "metadata": {},
   "outputs": [
    {
     "ename": "SyntaxError",
     "evalue": "invalid syntax (<ipython-input-6-d582256121cf>, line 5)",
     "output_type": "error",
     "traceback": [
      "\u001b[1;36m  File \u001b[1;32m\"<ipython-input-6-d582256121cf>\"\u001b[1;36m, line \u001b[1;32m5\u001b[0m\n\u001b[1;33m    print(1a=20)\u001b[0m\n\u001b[1;37m           ^\u001b[0m\n\u001b[1;31mSyntaxError\u001b[0m\u001b[1;31m:\u001b[0m invalid syntax\n"
     ]
    }
   ],
   "source": [
    "# variable Decleration\n",
    "a=10\n",
    "a\n",
    "print(a=10)\n",
    "print(1a=20)\n",
    "print(a1=100)\n",
    "print(_a='hello')"
   ]
  },
  {
   "cell_type": "code",
   "execution_count": 7,
   "metadata": {},
   "outputs": [
    {
     "name": "stdout",
     "output_type": "stream",
     "text": [
      "10\n",
      "10\n",
      "10\n",
      "10\n"
     ]
    }
   ],
   "source": [
    "# How to store single value in multiple variables\n",
    "\n",
    "a=b=c=d=10\n",
    "print(a)\n",
    "print(b)\n",
    "print(c)\n",
    "print(d)"
   ]
  },
  {
   "cell_type": "code",
   "execution_count": 8,
   "metadata": {},
   "outputs": [
    {
     "name": "stdout",
     "output_type": "stream",
     "text": [
      "10\n",
      "20\n",
      "30\n",
      "40\n"
     ]
    }
   ],
   "source": [
    "# How to multiple value in multiple variables\n",
    "\n",
    "a,b,c,d=10,20,30,40\n",
    "print(a)\n",
    "print(b)\n",
    "print(c)\n",
    "print(d)"
   ]
  },
  {
   "cell_type": "code",
   "execution_count": null,
   "metadata": {},
   "outputs": [],
   "source": [
    "# Operators\n",
    "1. Arthematic  Operator(+,-,*,/,%,//,**)\n",
    "2. Relational or Comparsion Operator(<,>,<=,>=,==,!=)"
   ]
  }
 ],
 "metadata": {
  "kernelspec": {
   "display_name": "Python 3",
   "language": "python",
   "name": "python3"
  },
  "language_info": {
   "codemirror_mode": {
    "name": "ipython",
    "version": 3
   },
   "file_extension": ".py",
   "mimetype": "text/x-python",
   "name": "python",
   "nbconvert_exporter": "python",
   "pygments_lexer": "ipython3",
   "version": "3.8.3"
  }
 },
 "nbformat": 4,
 "nbformat_minor": 4
}
